{
 "cells": [
  {
   "cell_type": "code",
   "execution_count": 35,
   "metadata": {
    "ExecuteTime": {
     "end_time": "2023-12-21T19:56:26.555313Z",
     "start_time": "2023-12-21T19:56:26.547729Z"
    },
    "id": "nERc21fRq3aP"
   },
   "outputs": [],
   "source": [
    "import torch\n",
    "from torch import nn\n",
    "import torch.nn.functional as F\n",
    "from torchvision import transforms, datasets, models\n",
    "import torch.optim as optim\n",
    "import matplotlib.pyplot as plt\n",
    "from sklearn.cluster import MiniBatchKMeans\n",
    "import numpy as np\n",
    "import copy\n",
    "import json\n",
    "import torchvision\n",
    "import torchvision.transforms as transforms\n",
    "from torchvision import models\n",
    "import subprocess\n",
    "import os\n",
    "import warnings\n",
    "warnings.filterwarnings(\"ignore\")"
   ]
  },
  {
   "cell_type": "code",
   "execution_count": 36,
   "metadata": {
    "ExecuteTime": {
     "end_time": "2023-12-21T19:56:29.320522Z",
     "start_time": "2023-12-21T19:56:29.314145Z"
    }
   },
   "outputs": [],
   "source": [
    "def test(model):\n",
    "    model.eval()\n",
    "    correct = 0\n",
    "    for x, y in ds_test:\n",
    "        x, y = x.cuda(), y.cuda()\n",
    "        output = model(x)\n",
    "        predictions = output.argmax(1)\n",
    "        correct += (predictions == y).sum().item()\n",
    "    return correct / len(ds_test.dataset)"
   ]
  },
  {
   "cell_type": "markdown",
   "metadata": {
    "heading_collapsed": true
   },
   "source": [
    "# CIFAR10"
   ]
  },
  {
   "cell_type": "code",
   "execution_count": 2,
   "metadata": {
    "ExecuteTime": {
     "end_time": "2023-12-20T22:55:24.837204Z",
     "start_time": "2023-12-20T22:55:24.831557Z"
    },
    "code_folding": [
     0,
     1,
     3,
     10
    ],
    "hidden": true,
    "id": "MopdsedyjoS1"
   },
   "outputs": [],
   "source": [
    "def get_transforms(nx=224):\n",
    "\tdef _convert_image_to_rgb(image):\n",
    "\t\treturn image.convert(\"RGB\")\n",
    "\ttrain_transform = torchvision.transforms.Compose([\n",
    "\t\ttorchvision.transforms.Resize(nx, antialias=True, interpolation=torchvision.transforms.InterpolationMode.BICUBIC),\n",
    "\t\ttorchvision.transforms.CenterCrop(nx),\n",
    "\t\t_convert_image_to_rgb,\n",
    "\t\ttorchvision.transforms.ToTensor(),\n",
    "\t\ttorchvision.transforms.Normalize((0.48145466, 0.4578275, 0.40821073), (0.26862954, 0.26130258, 0.27577711)),\n",
    "\t])\n",
    "\ttest_transform = torchvision.transforms.Compose([\n",
    "\t\ttorchvision.transforms.Resize(nx, antialias=True, interpolation=torchvision.transforms.InterpolationMode.BICUBIC),\n",
    "\t\ttorchvision.transforms.CenterCrop(nx),\n",
    "\t\t_convert_image_to_rgb,\n",
    "\t\ttorchvision.transforms.ToTensor(),\n",
    "\t\ttorchvision.transforms.Normalize((0.48145466, 0.4578275, 0.40821073), (0.26862954, 0.26130258, 0.27577711)),\n",
    "\t])\n",
    "\treturn train_transform, test_transform"
   ]
  },
  {
   "cell_type": "code",
   "execution_count": 3,
   "metadata": {
    "ExecuteTime": {
     "end_time": "2023-12-20T22:55:29.618176Z",
     "start_time": "2023-12-20T22:55:27.967528Z"
    },
    "colab": {
     "base_uri": "https://localhost:8080/"
    },
    "hidden": true,
    "id": "8UYi9jIwiB9O",
    "outputId": "2e834eff-54ca-409b-a055-ae268c1ed904"
   },
   "outputs": [
    {
     "name": "stdout",
     "output_type": "stream",
     "text": [
      "Files already downloaded and verified\n",
      "Files already downloaded and verified\n"
     ]
    }
   ],
   "source": [
    "train_transform, test_transform = get_transforms(nx=32)\n",
    "ds_train = torchvision.datasets.CIFAR10(root='~/datasets', train=False, download=True, transform=train_transform)\n",
    "ds_train = torch.utils.data.DataLoader(ds_train, batch_size=128, shuffle=True)\n",
    "ds_test = torchvision.datasets.CIFAR10(root='~/datasets', train=False, download=True, transform=test_transform)\n",
    "ds_test = torch.utils.data.DataLoader(ds_test, batch_size=128, shuffle=False)"
   ]
  },
  {
   "cell_type": "code",
   "execution_count": null,
   "metadata": {
    "hidden": true
   },
   "outputs": [],
   "source": [
    "model = torch.hub.load(\"chenyaofo/pytorch-cifar-models\", \"cifar10_vgg16_bn\", pretrained=True).cuda()\n",
    "\n",
    "\n",
    "## git clone https://github.com/huyvnphan/PyTorch_CIFAR10.git\n",
    "# from PyTorch_CIFAR10.cifar10_models.resnet import resnet18\n",
    "# model = resnet18(pretrained=True).cuda()\n",
    "\n",
    "\n",
    "print(f'Baseline accuracy: {test(model)}')"
   ]
  },
  {
   "cell_type": "markdown",
   "metadata": {
    "heading_collapsed": true
   },
   "source": [
    "# ImageNet"
   ]
  },
  {
   "cell_type": "code",
   "execution_count": 8,
   "metadata": {
    "ExecuteTime": {
     "end_time": "2023-12-21T13:27:45.971421Z",
     "start_time": "2023-12-21T13:27:45.761466Z"
    },
    "hidden": true
   },
   "outputs": [],
   "source": [
    "batch_size=64\n",
    "\n",
    "transform_test = transforms.Compose([\n",
    "    transforms.Resize(256),\n",
    "    transforms.CenterCrop(224),\n",
    "    transforms.ToTensor(),\n",
    "    transforms.Normalize([0.485, 0.456, 0.406], [0.229, 0.224, 0.225])\n",
    "])\n",
    "\n",
    "test_dataset = torchvision.datasets.ImageFolder(root='/data/ImageNet/ILSVRC2012_img_val/', transform=transform_test)\n",
    "ds_test = torch.utils.data.DataLoader(test_dataset, batch_size=batch_size, shuffle=False, num_workers=8)"
   ]
  },
  {
   "cell_type": "code",
   "execution_count": 38,
   "metadata": {
    "ExecuteTime": {
     "end_time": "2023-12-21T19:56:55.989037Z",
     "start_time": "2023-12-21T19:56:55.985348Z"
    },
    "hidden": true
   },
   "outputs": [],
   "source": [
    "# model = torch.hub.load('pytorch/vision:v0.10.0', 'resnet18', pretrained=True).cuda()\n",
    "model = torch.hub.load('pytorch/vision:v0.10.0', 'vgg16', pretrained=True).cuda()\n",
    "\n",
    "print(f'Baseline accuracy: {test(model)}')"
   ]
  },
  {
   "cell_type": "markdown",
   "metadata": {},
   "source": [
    "# Weight Clustering"
   ]
  },
  {
   "cell_type": "code",
   "execution_count": 29,
   "metadata": {
    "ExecuteTime": {
     "end_time": "2023-12-21T17:41:11.810299Z",
     "start_time": "2023-12-21T17:41:11.803297Z"
    },
    "id": "rRgXGg7Wi7Lt"
   },
   "outputs": [],
   "source": [
    "def storage_size(model):\n",
    "    net2 = copy.deepcopy(model)\n",
    "    file_path = \"/tmp/model.h5\"\n",
    "    torch.save(net2.state_dict(), file_path)\n",
    "    size_before = os.path.getsize(file_path) / (1024 * 1024)\n",
    "    subprocess.run([\"gzip\", \"-qf\", file_path])\n",
    "    size_after = os.path.getsize(file_path + \".gz\") / (1024 * 1024)\n",
    "    return size_before,size_after , size_before/size_after\n"
   ]
  },
  {
   "cell_type": "code",
   "execution_count": 31,
   "metadata": {
    "ExecuteTime": {
     "end_time": "2023-12-21T17:45:09.355981Z",
     "start_time": "2023-12-21T17:45:09.348564Z"
    },
    "id": "VowgTeQ4rnWh"
   },
   "outputs": [],
   "source": [
    "# Hyperparameters\n",
    "BATCH_SIZE = 32\n",
    "BLOCK_SIZE = 4\n",
    "N_CENTROIDS =50 \n",
    "DELTA = abs(2.170973157686992 - 0.003227713898589287) / 2\n",
    "MODULE_FILTER = lambda name, module: isinstance(module, nn.Conv2d) or isinstance(module, nn.Linear) and name != 'classifier.6'\n",
    "device = torch.device(\"cuda\" if torch.cuda.is_available() else \"cpu\")"
   ]
  },
  {
   "cell_type": "code",
   "execution_count": 32,
   "metadata": {
    "ExecuteTime": {
     "end_time": "2023-12-21T17:45:09.869469Z",
     "start_time": "2023-12-21T17:45:09.851590Z"
    },
    "code_folding": [
     8
    ],
    "id": "izq5SET4GWn-"
   },
   "outputs": [],
   "source": [
    "def blockify(x, block_width, block_height):\n",
    "    return x.reshape(-1, block_width * block_height)\n",
    "def deblockify(x, *original_dimensions):\n",
    "    return x.reshape(*original_dimensions)\n",
    "def legoifier(model, block_size=BLOCK_SIZE, n_centroids=N_CENTROIDS, module_filter=MODULE_FILTER):\n",
    "    modules_to_update = [\n",
    "        module for name, module in model.named_modules()\n",
    "        if module_filter(name, module)\n",
    "    ]\n",
    "\n",
    "    # Group into blocks\n",
    "\n",
    "    blocks = torch.cat([\n",
    "        blockify(module.weight, block_size, block_size)\n",
    "        for module in modules_to_update\n",
    "    ])\n",
    "\n",
    "    # Cluster blocks\n",
    "\n",
    "    kmeans = MiniBatchKMeans(n_init='auto', n_clusters=n_centroids, init='k-means++', random_state=0)\n",
    "    distances = kmeans.fit_transform(blocks.detach().cpu())\n",
    "    distances = distances[np.arange(distances.shape[0]), kmeans.labels_]\n",
    "    distances = torch.from_numpy(distances).to(device)\n",
    "\n",
    "\n",
    "    def legoify(delta=DELTA):\n",
    "        lego_model = copy.deepcopy(model)\n",
    "        modules_to_update = [\n",
    "            module for name, module in lego_model.named_modules()\n",
    "            if module_filter(name, module)\n",
    "        ]\n",
    "        blocks = torch.cat([\n",
    "            blockify(module.weight, block_size, block_size)\n",
    "            for module in modules_to_update\n",
    "        ])\n",
    "\n",
    "        # Replace blocks closest to centers with those centers\n",
    "        legos = torch.where(\n",
    "            (distances < delta).view(-1, 1),\n",
    "            torch.from_numpy(kmeans.cluster_centers_[kmeans.labels_]).to(device).type_as(blocks),\n",
    "            blocks\n",
    "        )\n",
    "        blocks_replaced = (blocks != legos).all(axis=1).sum()\n",
    "        block_count = len(legos)\n",
    "\n",
    "        # Convert legos back to original shape and update model\n",
    "        legos_used = 0\n",
    "\n",
    "        for i, module in enumerate(modules_to_update):\n",
    "            n_legos = module.weight.numel() // block_size ** 2\n",
    "            module_legos = legos[legos_used:legos_used + n_legos]\n",
    "            legos_used += n_legos\n",
    "            updated_weight = deblockify(module_legos, *module.weight.shape)\n",
    "            module.weight.data = torch.as_tensor(updated_weight).to(device)\n",
    "\n",
    "        return lego_model, blocks_replaced, block_count\n",
    "\n",
    "    return legoify"
   ]
  },
  {
   "cell_type": "code",
   "execution_count": 41,
   "metadata": {
    "ExecuteTime": {
     "end_time": "2023-12-21T20:04:21.425274Z",
     "start_time": "2023-12-21T20:04:21.419824Z"
    },
    "colab": {
     "base_uri": "https://localhost:8080/"
    },
    "id": "Fx3Z4t4BhnQz",
    "outputId": "5bf67ce8-5339-4a3c-a7a3-05ff59688df1"
   },
   "outputs": [],
   "source": [
    "module_filters = {\n",
    "    'all': MODULE_FILTER,\n",
    "    'conv': lambda name, module: isinstance(module, nn.Conv2d),\n",
    "    'linear': lambda name, module: isinstance(module, nn.Linear) and name != 'classifier.6'\n",
    "}\n",
    "deltas = np.linspace(0.001, 0.1, num=50)\n",
    "deltas = np.append(deltas, DELTA)\n",
    "model.cuda()\n",
    "results = {}\n",
    "\n",
    "print('size before compression:', storage_size(model)[1] )\n",
    "\n",
    "for filter_name, module_filter in module_filters.items():\n",
    "    results[filter_name] = {}\n",
    "    legoify = legoifier(model, module_filter=module_filter)\n",
    "    for delta in deltas:\n",
    "        lego_model, blocks_replaced, block_count = legoify(delta=delta)\n",
    "        accuracy = test(lego_model)\n",
    "        print(f'delta:{round(delta, 3)}, accuracy: {accuracy}, model_size: {round(storage_size(lego_model)[1], 3)}, replaced: {(blocks_replaced / block_count).item()*100}')\n",
    "        results[filter_name][delta] = {'accuracy': accuracy, 'replaced': (blocks_replaced / block_count).item()}\n",
    "#del lego_model  # Takes up 0.5 GB of memory!"
   ]
  },
  {
   "cell_type": "code",
   "execution_count": 40,
   "metadata": {
    "ExecuteTime": {
     "end_time": "2023-12-21T20:04:07.025618Z",
     "start_time": "2023-12-21T20:04:07.021336Z"
    },
    "colab": {
     "base_uri": "https://localhost:8080/"
    },
    "id": "SYQiXbSewhir",
    "outputId": "afcdecea-fb22-41a5-8fba-495a049d20c2"
   },
   "outputs": [],
   "source": [
    "import pprint\n",
    "pprint.pprint(results)"
   ]
  },
  {
   "cell_type": "code",
   "execution_count": 39,
   "metadata": {
    "ExecuteTime": {
     "end_time": "2023-12-21T20:04:00.538224Z",
     "start_time": "2023-12-21T20:04:00.533125Z"
    },
    "colab": {
     "base_uri": "https://localhost:8080/",
     "height": 927
    },
    "id": "21oa86077oXz",
    "outputId": "231048c6-8f00-4f76-aef6-daaa7a92b018"
   },
   "outputs": [],
   "source": [
    "plt.title('Lego-ified Model Accuracy')\n",
    "plt.xlabel('Delta')\n",
    "plt.ylabel('% Accuracy')\n",
    "for filter_name in module_filters.keys():\n",
    "    plt.plot(list(results[filter_name].keys()), [value['accuracy'] for value in results[filter_name].values()], label=filter_name)\n",
    "plt.legend()\n",
    "plt.show()\n",
    "\n",
    "plt.title('Blocks Replaced by Cluster Centers')\n",
    "plt.xlabel('Delta')\n",
    "plt.ylabel('% Replaced')\n",
    "for filter_name in module_filters.keys():\n",
    "    plt.plot(list(results[filter_name].keys()), [value['replaced'] for value in results[filter_name].values()], label=filter_name)\n",
    "plt.legend()\n",
    "plt.show()"
   ]
  }
 ],
 "metadata": {
  "accelerator": "GPU",
  "colab": {
   "gpuType": "T4",
   "provenance": []
  },
  "kernelspec": {
   "display_name": "Python 3 (ipykernel)",
   "language": "python",
   "name": "python3"
  },
  "language_info": {
   "codemirror_mode": {
    "name": "ipython",
    "version": 3
   },
   "file_extension": ".py",
   "mimetype": "text/x-python",
   "name": "python",
   "nbconvert_exporter": "python",
   "pygments_lexer": "ipython3",
   "version": "3.10.12"
  },
  "varInspector": {
   "cols": {
    "lenName": 16,
    "lenType": 16,
    "lenVar": 40
   },
   "kernels_config": {
    "python": {
     "delete_cmd_postfix": "",
     "delete_cmd_prefix": "del ",
     "library": "var_list.py",
     "varRefreshCmd": "print(var_dic_list())"
    },
    "r": {
     "delete_cmd_postfix": ") ",
     "delete_cmd_prefix": "rm(",
     "library": "var_list.r",
     "varRefreshCmd": "cat(var_dic_list()) "
    }
   },
   "types_to_exclude": [
    "module",
    "function",
    "builtin_function_or_method",
    "instance",
    "_Feature"
   ],
   "window_display": false
  }
 },
 "nbformat": 4,
 "nbformat_minor": 1
}
